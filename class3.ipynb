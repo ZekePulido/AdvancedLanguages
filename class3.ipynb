{
 "cells": [
  {
   "cell_type": "code",
   "execution_count": 2,
   "id": "d4f41dae-a944-406b-8f80-6a6e6f1ce36d",
   "metadata": {},
   "outputs": [],
   "source": [
    "import random"
   ]
  },
  {
   "cell_type": "code",
   "execution_count": 11,
   "id": "3726d171-15b8-4f63-861f-e280bb31765b",
   "metadata": {},
   "outputs": [
    {
     "name": "stdout",
     "output_type": "stream",
     "text": [
      "I am thinking of a number between 1 and 40\n"
     ]
    }
   ],
   "source": [
    "guessNumber = random.randint(1,40)\n",
    "print(\"I am thinking of a number between 1 and 40\")"
   ]
  },
  {
   "cell_type": "code",
   "execution_count": 12,
   "id": "8f4bb30b-0823-4b16-b73b-7b6c3e4be8a8",
   "metadata": {},
   "outputs": [
    {
     "name": "stdout",
     "output_type": "stream",
     "text": [
      "Take a guess:\n"
     ]
    },
    {
     "name": "stdin",
     "output_type": "stream",
     "text": [
      " 25\n"
     ]
    },
    {
     "name": "stdout",
     "output_type": "stream",
     "text": [
      "Your guess is too low\n",
      "Take a guess:\n"
     ]
    },
    {
     "name": "stdin",
     "output_type": "stream",
     "text": [
      " 38\n"
     ]
    },
    {
     "name": "stdout",
     "output_type": "stream",
     "text": [
      "Your guess is too low\n",
      "Take a guess:\n"
     ]
    },
    {
     "name": "stdin",
     "output_type": "stream",
     "text": [
      " 40\n"
     ]
    },
    {
     "name": "stdout",
     "output_type": "stream",
     "text": [
      "Your guess is too high\n",
      "Take a guess:\n"
     ]
    },
    {
     "name": "stdin",
     "output_type": "stream",
     "text": [
      " 39\n"
     ]
    },
    {
     "name": "stdout",
     "output_type": "stream",
     "text": [
      "You guessed my number in 4 guesses!\n"
     ]
    }
   ],
   "source": [
    "for i in range(10):\n",
    "    print('Take a guess:')\n",
    "    yourGuess = int(input())\n",
    "\n",
    "    if yourGuess < guessNumber:\n",
    "        print('Your guess is too low')\n",
    "    elif yourGuess > guessNumber:\n",
    "        print('Your guess is too high')\n",
    "    else:\n",
    "        break\n",
    "\n",
    "if yourGuess == guessNumber:\n",
    "    print('You guessed my number in ' + str(i + 1) + ' guesses!')\n",
    "else:\n",
    "    print('No, the number I was thinking of was ' + str(guessNumber))"
   ]
  },
  {
   "cell_type": "code",
   "execution_count": null,
   "id": "9dd3d789-11f0-408c-b82b-244156f7ba83",
   "metadata": {},
   "outputs": [],
   "source": []
  }
 ],
 "metadata": {
  "kernelspec": {
   "display_name": "Python 3 (ipykernel)",
   "language": "python",
   "name": "python3"
  },
  "language_info": {
   "codemirror_mode": {
    "name": "ipython",
    "version": 3
   },
   "file_extension": ".py",
   "mimetype": "text/x-python",
   "name": "python",
   "nbconvert_exporter": "python",
   "pygments_lexer": "ipython3",
   "version": "3.12.7"
  }
 },
 "nbformat": 4,
 "nbformat_minor": 5
}
