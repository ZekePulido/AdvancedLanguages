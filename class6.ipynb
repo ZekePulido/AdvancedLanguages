{
 "cells": [
  {
   "cell_type": "code",
   "execution_count": 3,
   "id": "db106093-3f89-4ae8-9b8d-a1bc36e20ead",
   "metadata": {},
   "outputs": [
    {
     "name": "stdout",
     "output_type": "stream",
     "text": [
      "bats\n",
      "red\n"
     ]
    }
   ],
   "source": [
    "l = ['bats', 'dogs', 'cats']\n",
    "d = {'color': 'red', 'age': 42}\n",
    "\n",
    "print(l[0])\n",
    "print(d['color'])"
   ]
  },
  {
   "cell_type": "code",
   "execution_count": 12,
   "id": "82c550c5-507a-46ad-995e-35c031886c0c",
   "metadata": {},
   "outputs": [
    {
     "name": "stdout",
     "output_type": "stream",
     "text": [
      "dict_items([('color', 'red'), ('age', 42)])\n",
      "dict_keys(['color', 'age'])\n",
      "dict_values(['red', 42])\n"
     ]
    }
   ],
   "source": [
    "print(d.items())\n",
    "print(d.keys())\n",
    "print(d.values())"
   ]
  },
  {
   "cell_type": "code",
   "execution_count": 18,
   "id": "9341827a-a156-4836-9743-8a1841be4ca4",
   "metadata": {},
   "outputs": [
    {
     "name": "stdout",
     "output_type": "stream",
     "text": [
      "cats\n",
      "bats\n"
     ]
    }
   ],
   "source": [
    "print(l[-1])\n",
    "print(l[0])"
   ]
  },
  {
   "cell_type": "code",
   "execution_count": 19,
   "id": "da5c8f99-f569-4820-8bc3-11ed3be2db72",
   "metadata": {},
   "outputs": [
    {
     "name": "stdout",
     "output_type": "stream",
     "text": [
      "{'T': 1, 'h': 1, 'i': 3, 's': 4, ' ': 5, 'a': 1, 't': 4, 'e': 2, 'f': 1, 'o': 1, 'r': 1, 'n': 1, 'g': 1}\n"
     ]
    }
   ],
   "source": [
    "message = \"This is a test for testing\"\n",
    "\n",
    "count = {}\n",
    "\n",
    "for character in message:\n",
    "    count.setdefault(character,0)\n",
    "    count[character] = count[character] + 1\n",
    "    \n",
    "print(count)"
   ]
  },
  {
   "cell_type": "code",
   "execution_count": null,
   "id": "5dc6ddbc-453f-4e8c-9823-770b5366a5c0",
   "metadata": {},
   "outputs": [],
   "source": []
  }
 ],
 "metadata": {
  "kernelspec": {
   "display_name": "Python 3 (ipykernel)",
   "language": "python",
   "name": "python3"
  },
  "language_info": {
   "codemirror_mode": {
    "name": "ipython",
    "version": 3
   },
   "file_extension": ".py",
   "mimetype": "text/x-python",
   "name": "python",
   "nbconvert_exporter": "python",
   "pygments_lexer": "ipython3",
   "version": "3.12.7"
  }
 },
 "nbformat": 4,
 "nbformat_minor": 5
}
