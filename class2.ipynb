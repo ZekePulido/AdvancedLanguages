{
 "cells": [
  {
   "cell_type": "code",
   "execution_count": 1,
   "id": "21e339bc-56ca-496e-ad08-0bb19925a377",
   "metadata": {},
   "outputs": [
    {
     "name": "stdout",
     "output_type": "stream",
     "text": [
      "True\n",
      "True\n",
      "False\n"
     ]
    }
   ],
   "source": [
    "print(42 == 42)\n",
    "print(42 != '42')\n",
    "print(42 == '42')"
   ]
  },
  {
   "cell_type": "code",
   "execution_count": 2,
   "id": "6f243317-128c-45b0-a3f2-dea7867d50a5",
   "metadata": {},
   "outputs": [
    {
     "data": {
      "text/plain": [
       "False"
      ]
     },
     "execution_count": 2,
     "metadata": {},
     "output_type": "execute_result"
    }
   ],
   "source": [
    "(5<6) and (6<5)"
   ]
  },
  {
   "cell_type": "code",
   "execution_count": 5,
   "id": "11669e04-c2b4-4d9e-9816-2126662e0e95",
   "metadata": {},
   "outputs": [
    {
     "data": {
      "text/plain": [
       "True"
      ]
     },
     "execution_count": 5,
     "metadata": {},
     "output_type": "execute_result"
    }
   ],
   "source": [
    "(5<6) or (6<5)"
   ]
  },
  {
   "cell_type": "code",
   "execution_count": 4,
   "id": "93b8893e-3f54-4d71-932c-b5f1eb2551ff",
   "metadata": {},
   "outputs": [
    {
     "data": {
      "text/plain": [
       "False"
      ]
     },
     "execution_count": 4,
     "metadata": {},
     "output_type": "execute_result"
    }
   ],
   "source": [
    "(7<6) and (6<5)"
   ]
  },
  {
   "cell_type": "code",
   "execution_count": 7,
   "id": "5b6bc9c2-d730-4f91-9648-842873f3f931",
   "metadata": {},
   "outputs": [
    {
     "name": "stdin",
     "output_type": "stream",
     "text": [
      "Please enter your password: test\n"
     ]
    },
    {
     "name": "stdout",
     "output_type": "stream",
     "text": [
      "ID is correct\n",
      "Password is not correct\n"
     ]
    }
   ],
   "source": [
    "ID = 'apple'\n",
    "Password = input('Please enter your password:')\n",
    "\n",
    "if ID == 'apple':\n",
    "    print('ID is correct')\n",
    "    if Password == 'apple1':\n",
    "        print('Password is correct')\n",
    "    else:\n",
    "        print('Password is not correct')"
   ]
  },
  {
   "cell_type": "code",
   "execution_count": 10,
   "id": "c5ada2ee-f218-4702-adf4-7ae555055f73",
   "metadata": {},
   "outputs": [
    {
     "name": "stdin",
     "output_type": "stream",
     "text": [
      "Please enter your grade 95\n"
     ]
    },
    {
     "name": "stdout",
     "output_type": "stream",
     "text": [
      "A\n"
     ]
    }
   ],
   "source": [
    "grade = int(input('Please enter your grade'))\n",
    "\n",
    "if grade > 90:\n",
    "    print('A')\n",
    "elif grade > 80:\n",
    "    print('B')\n",
    "elif grade > 70:\n",
    "    print('C')\n",
    "else: \n",
    "    print('D')"
   ]
  },
  {
   "cell_type": "code",
   "execution_count": null,
   "id": "312d1538-c236-4778-b192-2c1093b3a9f2",
   "metadata": {},
   "outputs": [],
   "source": []
  }
 ],
 "metadata": {
  "kernelspec": {
   "display_name": "Python 3 (ipykernel)",
   "language": "python",
   "name": "python3"
  },
  "language_info": {
   "codemirror_mode": {
    "name": "ipython",
    "version": 3
   },
   "file_extension": ".py",
   "mimetype": "text/x-python",
   "name": "python",
   "nbconvert_exporter": "python",
   "pygments_lexer": "ipython3",
   "version": "3.12.7"
  }
 },
 "nbformat": 4,
 "nbformat_minor": 5
}
